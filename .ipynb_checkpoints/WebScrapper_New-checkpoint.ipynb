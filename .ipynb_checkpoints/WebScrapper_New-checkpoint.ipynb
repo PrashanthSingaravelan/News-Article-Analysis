{
 "cells": [
  {
   "cell_type": "code",
   "execution_count": 1,
   "id": "f27e2b79",
   "metadata": {},
   "outputs": [],
   "source": [
    "from bs4 import BeautifulSoup\n",
    "import requests\n",
    "import csv\n",
    "import re"
   ]
  },
  {
   "cell_type": "code",
   "execution_count": 5,
   "id": "97393a4c",
   "metadata": {},
   "outputs": [],
   "source": [
    "## The Indian Express\n",
    "def indian_express_get_content(url):\n",
    "    ar = requests.get(url)\n",
    "    article = BeautifulSoup(ar.text,\"lxml\")\n",
    "    if article.find(id=\"pcl-full-content\") == None:\n",
    "        return None\n",
    "    else:\n",
    "        content = \"\"\n",
    "        for para in article.find('div', id = \"pcl-full-content\").find_all(\"p\"):\n",
    "            content+=para.get_text()\n",
    "        return content"
   ]
  },
  {
   "cell_type": "code",
   "execution_count": 6,
   "id": "ccbc5d7f",
   "metadata": {},
   "outputs": [
    {
     "data": {
      "text/plain": [
       "'As Diwali was celebrated across the country Monday, the air quality index (AQI) in the National Capital Region (NCR) plummeted to ‘very poor’, while other major cities recorded ‘moderate’ or ‘satisfactory’ air quality.Delhi’s air quality hit the “very poor” category with an AQI of 312. This is the first ‘very poor’ air day of the season for the national capital.Gurgaon and Noida also recorded air quality in the ‘very poor’ category, with respective AQIs of 322 and 305.An AQI between 301 and 400 is considered to be “very poor” and can cause respiratory illness on prolonged exposure, according to the Central Pollution Control Board (CPCB).The System of Air Quality and Weather Forecasting and Research (SAFAR), meanwhile, termed the air quality across Mumbai and Pune as ‘moderate’ and ‘satisfactory’, respectively. The CPCB recorded an AQI value of 136 yesterday, with the major pollutants being PM10 and PM2.5 in Mumbai.According to the CPCB, Bengaluru recorded an AQI index value of 100 with a ‘satisfactory’ air quality. A ‘moderate’ AQI value of 192 was recorded in Chennai. In lines with a Supreme Court order, the Tamil Nadu government had specified that crackers should only be burst from 6 am to 7 am and 7 pm to 8 pm.The CPCB termed the air quality of the city of Kolkata as ‘satisfactory’ with an AQI value of 55. The major pollutants were identified as PM10 and NO2. Recently, the West Bengal Environment Minister Manas Bhuniya had said the new central control room at Paribesh Bhavan is monitoring sound and air pollution in real time on Diwali and Kali Puja.'"
      ]
     },
     "execution_count": 6,
     "metadata": {},
     "output_type": "execute_result"
    }
   ],
   "source": [
    "url = \"https://indianexpress.com/article/india/diwali-pollution-air-quality-index-delhi-mumbai-kolkata-8228093/\"\n",
    "indian_express_get_content(url)"
   ]
  },
  {
   "cell_type": "code",
   "execution_count": 7,
   "id": "dad9a158",
   "metadata": {},
   "outputs": [],
   "source": [
    "## The India Today\n",
    "def india_today_get_content(url):\n",
    "    ar = requests.get(url)\n",
    "    article = BeautifulSoup(ar.text,\"lxml\")\n",
    "    title = article.find(\"h1\").get_text()\n",
    "    if (article.find('div',{\"class\":\"description\"}) == None):\n",
    "        return None, None, None\n",
    "    else:\n",
    "        content = \"\"\n",
    "        for para in article.find(class_ = \"description\").find_all(\"p\")[:-3]:\n",
    "            content+=para.get_text()\n",
    "        return content"
   ]
  },
  {
   "cell_type": "code",
   "execution_count": 8,
   "id": "27812ba9",
   "metadata": {},
   "outputs": [
    {
     "data": {
      "text/plain": [
       "\"By Pramod Madhav: Junaidha Begum, the mother of one of the accused in the Coimbatore car blast case, has claimed that cops that her son only went to help Jamesha Mubeen shift his home. Mubeen was killed in the incident that occurred in Tamil Nadu’s Coimbatore on October 23.Soon after the blast, the Coimbatore Police launched an investigation and found bomb-making chemicals at the house of the deceased. Six accused were arrested. They were identified as Mohammed Dalqa, Mohammed Azharuddin, Muhamed Riyaz, Feroz Ismail, Afzar, and Muhammad Nawaz Ismail.ALSO READ | ‘My son being portrayed in bad light'': Mother of accused who sold car used in Coimbatore blastAccording to the police, Mubeen was on his way to a target and was trying to avoid a checkpoint when the blast occurred, killing him as he tried to leave the car. Officials are not yet sure about what his target was.Footage from CCTV near Mubeen’s residence showed the four men struggling to carry an item wrapped in a plastic sack. Suspicion arose whether this was the bomb that killed Jamesha. Officials are investigating the CCTV footage to find out what the group were carrying.Dalqa had purportedly sold the car to Mubeen, in which he was carrying the explosive. Hafsath Biwi, the mother of Dalqa, claimed that he had sold the car for a commission since he was dealing in second-hand cars and had no connection with the blast.Meanwhile, Riyaz’s mother Junaidha Begum also told the police that Feroz and Riyaz had gone to Mubeen’s house as he had called them to help him shift his home.ALSO READ | Coimbatore blast: TN BJP chief claims police had details on accused being ‘ISIS sympathiser’India Today has now accessed the call recordings between Riyaz and his mother and Riyaz and Feroz on the day of the blast. Here are the audio transcripts of the calls.Audio 1Junaidha Begum: Where are you Riyaz?\\nRiyaz - I’m going to help him shift his house.Junaidha Begum: Where is the vehicle?\\nRiyaz: I’ve given it to my brother-in-law.Junaidha Begum: I called you to see if we could get the auto.\\nRiyaz: Is it? I have given the car to my brother-in-law. I don’t have the auto with me either.Junaidha Begum: Where are you going?\\nRiyaz: I’m out with FerozJunaidha Begum: Where are you?\\nRiyaz: Near Kottaimedu (where Mubeen lived).Audio 2Junaidha Begum: Where are you?\\nRiyaz: I’m helping with shifting items at Mubeen’s house.Junaidha Begum: Who all are there?\\nRiyaz: Feroz, Nawaz, and I.Junaidha Begum: Return early.\\nRiyaz: It’s almost over.Audio 3(Conversation between Feroz and Riyaz)Feroz: Hey, come here. Come quickly.\\nRiyaz: Can’t. It will take time.Feroz: How long?\\nRiyaz: Maybe 15 minutes.Feroz: Okay, come fast.\\nRiyaz: Why? What happened?Feroz: He (Mubeen) is calling to help him shift home.\\nRiyaz: You go and help him. I can’t go.Feroz: Why?\\nRiyaz: There are people at home.Feroz: Okay, come here for a minute.\\nRiyaz: I’m not going da.\""
      ]
     },
     "execution_count": 8,
     "metadata": {},
     "output_type": "execute_result"
    }
   ],
   "source": [
    "url = \"https://www.indiatoday.in/india/story/coimbatore-blast-accused-call-recordings-isis-2292127-2022-11-01\"\n",
    "india_today_get_content(url)"
   ]
  },
  {
   "cell_type": "code",
   "execution_count": 9,
   "id": "530d1ecf",
   "metadata": {},
   "outputs": [],
   "source": [
    "## NDTV\n",
    "def ndtv_get_content(url):\n",
    "    ar = requests.get(url)\n",
    "    article = BeautifulSoup(ar.text,\"lxml\")\n",
    "    if article.find('div',{'id':\"ins_storybody\"}) == None:\n",
    "        return None, None\n",
    "    else:\n",
    "        content = \"\"\n",
    "        for para in article.find('div',{'id':\"ins_storybody\"}).find_all(\"p\"):\n",
    "            content+=para.get_text()\n",
    "        return content"
   ]
  },
  {
   "cell_type": "code",
   "execution_count": 10,
   "id": "db0bbee7",
   "metadata": {},
   "outputs": [
    {
     "data": {
      "text/plain": [
       "'135 people died in the bridge collapse tragedy on SundayThe chief of India\\'s disaster response force has thrown some light on what may have caused the high casualties after a cable bridge snapped in Gujarat\\'s Morbi city on Sunday, killing 135.The water towards both ends of the century-old cable bridge is shallow, about 10 feet or the length of a small car, and the people hit the rocky bottom after falling into the river with great force, killing them, VVN Prasanna Kumar, the Commandant of the National Disaster Response Force (NDRF), which is part of the search team in the River Machhu, told NDTV on Tuesday.The middle area of the river, whose water is stagnant with almost no flow, is about 20 feet deep, Mr Kumar said, adding the navy divers who are searching for bodies effortlessly reached the bottom of the river.\"But the water is muddy and visibility is low,\" Mr Kumar said. \"We have been using an ultramodern remote underwater vehicle fitted with a camera and a sonar device to locate bodies,\" the NDRF Commandant told NDTV. \"The floor of the river is full of rocks. This is why many people were injured and killed,\" he added.NDRF Commandant VVN Prasanna Kumar said they are using advanced tools to locate bodiesMost of the bodies were found under the broken bridge as the river did not have any flow and the water did not carry them away, Mr Kumar said.He said there could be only one or two bodies left to be found, based on data of missing people given by the civil administration.Prime Minister Narendra Modi on Tuesday\\xa0visited the hospital in Morbi city where the injured people are being treated. The facility got a quick-fix facelift overnight ahead of his visit.The narrow cable bridge collapsed due to a huge rush of people, sources in the Gujarat forensics laboratory have said. Some of the old cables that held the bridge were not changed during the seven-month renovation that started in March this year, sources have said.'"
      ]
     },
     "execution_count": 10,
     "metadata": {},
     "output_type": "execute_result"
    }
   ],
   "source": [
    "url = \"https://www.ndtv.com/india-news/shallow-water-with-rocks-led-to-casualties-ndrf-chief-on-gujarat-cable-bridge-tragedy-3481680#pfrom=home-ndtv_topscroll\"\n",
    "ndtv_get_content(url)"
   ]
  },
  {
   "cell_type": "code",
   "execution_count": 32,
   "id": "0a3949c2",
   "metadata": {},
   "outputs": [],
   "source": [
    "## Times of India\n",
    "def toi_get_content(url):\n",
    "    data = requests.get(url).content\n",
    "    soup = BeautifulSoup(data,\"lxml\")\n",
    "    div = soup.find(\"div\", class_= \"_3YYSt clearfix \")\n",
    "    if div is None:\n",
    "        div = soup.find(\"div\", class_= \"_3YYSt clearfix\")\n",
    "    if div is not None:\n",
    "        return \"\".join(list(div.strings))\n",
    "    return None, None"
   ]
  },
  {
   "cell_type": "code",
   "execution_count": 33,
   "id": "64094009",
   "metadata": {},
   "outputs": [
    {
     "ename": "ConnectionError",
     "evalue": "HTTPSConnectionPool(host='timesofindia.indiatimes.com', port=443): Max retries exceeded with url: /city/ahmedabad/morbi-tragedy-why-safety-sops-for-amusement-rides-dont-apply-to-ticketed-bridges/articleshow/95249369.cms (Caused by NewConnectionError('<urllib3.connection.HTTPSConnection object at 0x11645c040>: Failed to establish a new connection: [Errno 8] nodename nor servname provided, or not known'))",
     "output_type": "error",
     "traceback": [
      "\u001b[0;31m---------------------------------------------------------------------------\u001b[0m",
      "\u001b[0;31mgaierror\u001b[0m                                  Traceback (most recent call last)",
      "File \u001b[0;32m~/miniforge3/lib/python3.10/site-packages/urllib3/connection.py:174\u001b[0m, in \u001b[0;36mHTTPConnection._new_conn\u001b[0;34m(self)\u001b[0m\n\u001b[1;32m    173\u001b[0m \u001b[38;5;28;01mtry\u001b[39;00m:\n\u001b[0;32m--> 174\u001b[0m     conn \u001b[38;5;241m=\u001b[39m \u001b[43mconnection\u001b[49m\u001b[38;5;241;43m.\u001b[39;49m\u001b[43mcreate_connection\u001b[49m\u001b[43m(\u001b[49m\n\u001b[1;32m    175\u001b[0m \u001b[43m        \u001b[49m\u001b[43m(\u001b[49m\u001b[38;5;28;43mself\u001b[39;49m\u001b[38;5;241;43m.\u001b[39;49m\u001b[43m_dns_host\u001b[49m\u001b[43m,\u001b[49m\u001b[43m \u001b[49m\u001b[38;5;28;43mself\u001b[39;49m\u001b[38;5;241;43m.\u001b[39;49m\u001b[43mport\u001b[49m\u001b[43m)\u001b[49m\u001b[43m,\u001b[49m\u001b[43m \u001b[49m\u001b[38;5;28;43mself\u001b[39;49m\u001b[38;5;241;43m.\u001b[39;49m\u001b[43mtimeout\u001b[49m\u001b[43m,\u001b[49m\u001b[43m \u001b[49m\u001b[38;5;241;43m*\u001b[39;49m\u001b[38;5;241;43m*\u001b[39;49m\u001b[43mextra_kw\u001b[49m\n\u001b[1;32m    176\u001b[0m \u001b[43m    \u001b[49m\u001b[43m)\u001b[49m\n\u001b[1;32m    178\u001b[0m \u001b[38;5;28;01mexcept\u001b[39;00m SocketTimeout:\n",
      "File \u001b[0;32m~/miniforge3/lib/python3.10/site-packages/urllib3/util/connection.py:72\u001b[0m, in \u001b[0;36mcreate_connection\u001b[0;34m(address, timeout, source_address, socket_options)\u001b[0m\n\u001b[1;32m     68\u001b[0m     \u001b[38;5;28;01mreturn\u001b[39;00m six\u001b[38;5;241m.\u001b[39mraise_from(\n\u001b[1;32m     69\u001b[0m         LocationParseError(\u001b[38;5;124mu\u001b[39m\u001b[38;5;124m\"\u001b[39m\u001b[38;5;124m'\u001b[39m\u001b[38;5;132;01m%s\u001b[39;00m\u001b[38;5;124m'\u001b[39m\u001b[38;5;124m, label empty or too long\u001b[39m\u001b[38;5;124m\"\u001b[39m \u001b[38;5;241m%\u001b[39m host), \u001b[38;5;28;01mNone\u001b[39;00m\n\u001b[1;32m     70\u001b[0m     )\n\u001b[0;32m---> 72\u001b[0m \u001b[38;5;28;01mfor\u001b[39;00m res \u001b[38;5;129;01min\u001b[39;00m \u001b[43msocket\u001b[49m\u001b[38;5;241;43m.\u001b[39;49m\u001b[43mgetaddrinfo\u001b[49m\u001b[43m(\u001b[49m\u001b[43mhost\u001b[49m\u001b[43m,\u001b[49m\u001b[43m \u001b[49m\u001b[43mport\u001b[49m\u001b[43m,\u001b[49m\u001b[43m \u001b[49m\u001b[43mfamily\u001b[49m\u001b[43m,\u001b[49m\u001b[43m \u001b[49m\u001b[43msocket\u001b[49m\u001b[38;5;241;43m.\u001b[39;49m\u001b[43mSOCK_STREAM\u001b[49m\u001b[43m)\u001b[49m:\n\u001b[1;32m     73\u001b[0m     af, socktype, proto, canonname, sa \u001b[38;5;241m=\u001b[39m res\n",
      "File \u001b[0;32m~/miniforge3/lib/python3.10/socket.py:955\u001b[0m, in \u001b[0;36mgetaddrinfo\u001b[0;34m(host, port, family, type, proto, flags)\u001b[0m\n\u001b[1;32m    954\u001b[0m addrlist \u001b[38;5;241m=\u001b[39m []\n\u001b[0;32m--> 955\u001b[0m \u001b[38;5;28;01mfor\u001b[39;00m res \u001b[38;5;129;01min\u001b[39;00m \u001b[43m_socket\u001b[49m\u001b[38;5;241;43m.\u001b[39;49m\u001b[43mgetaddrinfo\u001b[49m\u001b[43m(\u001b[49m\u001b[43mhost\u001b[49m\u001b[43m,\u001b[49m\u001b[43m \u001b[49m\u001b[43mport\u001b[49m\u001b[43m,\u001b[49m\u001b[43m \u001b[49m\u001b[43mfamily\u001b[49m\u001b[43m,\u001b[49m\u001b[43m \u001b[49m\u001b[38;5;28;43mtype\u001b[39;49m\u001b[43m,\u001b[49m\u001b[43m \u001b[49m\u001b[43mproto\u001b[49m\u001b[43m,\u001b[49m\u001b[43m \u001b[49m\u001b[43mflags\u001b[49m\u001b[43m)\u001b[49m:\n\u001b[1;32m    956\u001b[0m     af, socktype, proto, canonname, sa \u001b[38;5;241m=\u001b[39m res\n",
      "\u001b[0;31mgaierror\u001b[0m: [Errno 8] nodename nor servname provided, or not known",
      "\nDuring handling of the above exception, another exception occurred:\n",
      "\u001b[0;31mNewConnectionError\u001b[0m                        Traceback (most recent call last)",
      "File \u001b[0;32m~/miniforge3/lib/python3.10/site-packages/urllib3/connectionpool.py:703\u001b[0m, in \u001b[0;36mHTTPConnectionPool.urlopen\u001b[0;34m(self, method, url, body, headers, retries, redirect, assert_same_host, timeout, pool_timeout, release_conn, chunked, body_pos, **response_kw)\u001b[0m\n\u001b[1;32m    702\u001b[0m \u001b[38;5;66;03m# Make the request on the httplib connection object.\u001b[39;00m\n\u001b[0;32m--> 703\u001b[0m httplib_response \u001b[38;5;241m=\u001b[39m \u001b[38;5;28;43mself\u001b[39;49m\u001b[38;5;241;43m.\u001b[39;49m\u001b[43m_make_request\u001b[49m\u001b[43m(\u001b[49m\n\u001b[1;32m    704\u001b[0m \u001b[43m    \u001b[49m\u001b[43mconn\u001b[49m\u001b[43m,\u001b[49m\n\u001b[1;32m    705\u001b[0m \u001b[43m    \u001b[49m\u001b[43mmethod\u001b[49m\u001b[43m,\u001b[49m\n\u001b[1;32m    706\u001b[0m \u001b[43m    \u001b[49m\u001b[43murl\u001b[49m\u001b[43m,\u001b[49m\n\u001b[1;32m    707\u001b[0m \u001b[43m    \u001b[49m\u001b[43mtimeout\u001b[49m\u001b[38;5;241;43m=\u001b[39;49m\u001b[43mtimeout_obj\u001b[49m\u001b[43m,\u001b[49m\n\u001b[1;32m    708\u001b[0m \u001b[43m    \u001b[49m\u001b[43mbody\u001b[49m\u001b[38;5;241;43m=\u001b[39;49m\u001b[43mbody\u001b[49m\u001b[43m,\u001b[49m\n\u001b[1;32m    709\u001b[0m \u001b[43m    \u001b[49m\u001b[43mheaders\u001b[49m\u001b[38;5;241;43m=\u001b[39;49m\u001b[43mheaders\u001b[49m\u001b[43m,\u001b[49m\n\u001b[1;32m    710\u001b[0m \u001b[43m    \u001b[49m\u001b[43mchunked\u001b[49m\u001b[38;5;241;43m=\u001b[39;49m\u001b[43mchunked\u001b[49m\u001b[43m,\u001b[49m\n\u001b[1;32m    711\u001b[0m \u001b[43m\u001b[49m\u001b[43m)\u001b[49m\n\u001b[1;32m    713\u001b[0m \u001b[38;5;66;03m# If we're going to release the connection in ``finally:``, then\u001b[39;00m\n\u001b[1;32m    714\u001b[0m \u001b[38;5;66;03m# the response doesn't need to know about the connection. Otherwise\u001b[39;00m\n\u001b[1;32m    715\u001b[0m \u001b[38;5;66;03m# it will also try to release it and we'll have a double-release\u001b[39;00m\n\u001b[1;32m    716\u001b[0m \u001b[38;5;66;03m# mess.\u001b[39;00m\n",
      "File \u001b[0;32m~/miniforge3/lib/python3.10/site-packages/urllib3/connectionpool.py:386\u001b[0m, in \u001b[0;36mHTTPConnectionPool._make_request\u001b[0;34m(self, conn, method, url, timeout, chunked, **httplib_request_kw)\u001b[0m\n\u001b[1;32m    385\u001b[0m \u001b[38;5;28;01mtry\u001b[39;00m:\n\u001b[0;32m--> 386\u001b[0m     \u001b[38;5;28;43mself\u001b[39;49m\u001b[38;5;241;43m.\u001b[39;49m\u001b[43m_validate_conn\u001b[49m\u001b[43m(\u001b[49m\u001b[43mconn\u001b[49m\u001b[43m)\u001b[49m\n\u001b[1;32m    387\u001b[0m \u001b[38;5;28;01mexcept\u001b[39;00m (SocketTimeout, BaseSSLError) \u001b[38;5;28;01mas\u001b[39;00m e:\n\u001b[1;32m    388\u001b[0m     \u001b[38;5;66;03m# Py2 raises this as a BaseSSLError, Py3 raises it as socket timeout.\u001b[39;00m\n",
      "File \u001b[0;32m~/miniforge3/lib/python3.10/site-packages/urllib3/connectionpool.py:1042\u001b[0m, in \u001b[0;36mHTTPSConnectionPool._validate_conn\u001b[0;34m(self, conn)\u001b[0m\n\u001b[1;32m   1041\u001b[0m \u001b[38;5;28;01mif\u001b[39;00m \u001b[38;5;129;01mnot\u001b[39;00m \u001b[38;5;28mgetattr\u001b[39m(conn, \u001b[38;5;124m\"\u001b[39m\u001b[38;5;124msock\u001b[39m\u001b[38;5;124m\"\u001b[39m, \u001b[38;5;28;01mNone\u001b[39;00m):  \u001b[38;5;66;03m# AppEngine might not have  `.sock`\u001b[39;00m\n\u001b[0;32m-> 1042\u001b[0m     \u001b[43mconn\u001b[49m\u001b[38;5;241;43m.\u001b[39;49m\u001b[43mconnect\u001b[49m\u001b[43m(\u001b[49m\u001b[43m)\u001b[49m\n\u001b[1;32m   1044\u001b[0m \u001b[38;5;28;01mif\u001b[39;00m \u001b[38;5;129;01mnot\u001b[39;00m conn\u001b[38;5;241m.\u001b[39mis_verified:\n",
      "File \u001b[0;32m~/miniforge3/lib/python3.10/site-packages/urllib3/connection.py:358\u001b[0m, in \u001b[0;36mHTTPSConnection.connect\u001b[0;34m(self)\u001b[0m\n\u001b[1;32m    356\u001b[0m \u001b[38;5;28;01mdef\u001b[39;00m \u001b[38;5;21mconnect\u001b[39m(\u001b[38;5;28mself\u001b[39m):\n\u001b[1;32m    357\u001b[0m     \u001b[38;5;66;03m# Add certificate verification\u001b[39;00m\n\u001b[0;32m--> 358\u001b[0m     \u001b[38;5;28mself\u001b[39m\u001b[38;5;241m.\u001b[39msock \u001b[38;5;241m=\u001b[39m conn \u001b[38;5;241m=\u001b[39m \u001b[38;5;28;43mself\u001b[39;49m\u001b[38;5;241;43m.\u001b[39;49m\u001b[43m_new_conn\u001b[49m\u001b[43m(\u001b[49m\u001b[43m)\u001b[49m\n\u001b[1;32m    359\u001b[0m     hostname \u001b[38;5;241m=\u001b[39m \u001b[38;5;28mself\u001b[39m\u001b[38;5;241m.\u001b[39mhost\n",
      "File \u001b[0;32m~/miniforge3/lib/python3.10/site-packages/urllib3/connection.py:186\u001b[0m, in \u001b[0;36mHTTPConnection._new_conn\u001b[0;34m(self)\u001b[0m\n\u001b[1;32m    185\u001b[0m \u001b[38;5;28;01mexcept\u001b[39;00m SocketError \u001b[38;5;28;01mas\u001b[39;00m e:\n\u001b[0;32m--> 186\u001b[0m     \u001b[38;5;28;01mraise\u001b[39;00m NewConnectionError(\n\u001b[1;32m    187\u001b[0m         \u001b[38;5;28mself\u001b[39m, \u001b[38;5;124m\"\u001b[39m\u001b[38;5;124mFailed to establish a new connection: \u001b[39m\u001b[38;5;132;01m%s\u001b[39;00m\u001b[38;5;124m\"\u001b[39m \u001b[38;5;241m%\u001b[39m e\n\u001b[1;32m    188\u001b[0m     )\n\u001b[1;32m    190\u001b[0m \u001b[38;5;28;01mreturn\u001b[39;00m conn\n",
      "\u001b[0;31mNewConnectionError\u001b[0m: <urllib3.connection.HTTPSConnection object at 0x11645c040>: Failed to establish a new connection: [Errno 8] nodename nor servname provided, or not known",
      "\nDuring handling of the above exception, another exception occurred:\n",
      "\u001b[0;31mMaxRetryError\u001b[0m                             Traceback (most recent call last)",
      "File \u001b[0;32m~/miniforge3/lib/python3.10/site-packages/requests/adapters.py:489\u001b[0m, in \u001b[0;36mHTTPAdapter.send\u001b[0;34m(self, request, stream, timeout, verify, cert, proxies)\u001b[0m\n\u001b[1;32m    488\u001b[0m \u001b[38;5;28;01mif\u001b[39;00m \u001b[38;5;129;01mnot\u001b[39;00m chunked:\n\u001b[0;32m--> 489\u001b[0m     resp \u001b[38;5;241m=\u001b[39m \u001b[43mconn\u001b[49m\u001b[38;5;241;43m.\u001b[39;49m\u001b[43murlopen\u001b[49m\u001b[43m(\u001b[49m\n\u001b[1;32m    490\u001b[0m \u001b[43m        \u001b[49m\u001b[43mmethod\u001b[49m\u001b[38;5;241;43m=\u001b[39;49m\u001b[43mrequest\u001b[49m\u001b[38;5;241;43m.\u001b[39;49m\u001b[43mmethod\u001b[49m\u001b[43m,\u001b[49m\n\u001b[1;32m    491\u001b[0m \u001b[43m        \u001b[49m\u001b[43murl\u001b[49m\u001b[38;5;241;43m=\u001b[39;49m\u001b[43murl\u001b[49m\u001b[43m,\u001b[49m\n\u001b[1;32m    492\u001b[0m \u001b[43m        \u001b[49m\u001b[43mbody\u001b[49m\u001b[38;5;241;43m=\u001b[39;49m\u001b[43mrequest\u001b[49m\u001b[38;5;241;43m.\u001b[39;49m\u001b[43mbody\u001b[49m\u001b[43m,\u001b[49m\n\u001b[1;32m    493\u001b[0m \u001b[43m        \u001b[49m\u001b[43mheaders\u001b[49m\u001b[38;5;241;43m=\u001b[39;49m\u001b[43mrequest\u001b[49m\u001b[38;5;241;43m.\u001b[39;49m\u001b[43mheaders\u001b[49m\u001b[43m,\u001b[49m\n\u001b[1;32m    494\u001b[0m \u001b[43m        \u001b[49m\u001b[43mredirect\u001b[49m\u001b[38;5;241;43m=\u001b[39;49m\u001b[38;5;28;43;01mFalse\u001b[39;49;00m\u001b[43m,\u001b[49m\n\u001b[1;32m    495\u001b[0m \u001b[43m        \u001b[49m\u001b[43massert_same_host\u001b[49m\u001b[38;5;241;43m=\u001b[39;49m\u001b[38;5;28;43;01mFalse\u001b[39;49;00m\u001b[43m,\u001b[49m\n\u001b[1;32m    496\u001b[0m \u001b[43m        \u001b[49m\u001b[43mpreload_content\u001b[49m\u001b[38;5;241;43m=\u001b[39;49m\u001b[38;5;28;43;01mFalse\u001b[39;49;00m\u001b[43m,\u001b[49m\n\u001b[1;32m    497\u001b[0m \u001b[43m        \u001b[49m\u001b[43mdecode_content\u001b[49m\u001b[38;5;241;43m=\u001b[39;49m\u001b[38;5;28;43;01mFalse\u001b[39;49;00m\u001b[43m,\u001b[49m\n\u001b[1;32m    498\u001b[0m \u001b[43m        \u001b[49m\u001b[43mretries\u001b[49m\u001b[38;5;241;43m=\u001b[39;49m\u001b[38;5;28;43mself\u001b[39;49m\u001b[38;5;241;43m.\u001b[39;49m\u001b[43mmax_retries\u001b[49m\u001b[43m,\u001b[49m\n\u001b[1;32m    499\u001b[0m \u001b[43m        \u001b[49m\u001b[43mtimeout\u001b[49m\u001b[38;5;241;43m=\u001b[39;49m\u001b[43mtimeout\u001b[49m\u001b[43m,\u001b[49m\n\u001b[1;32m    500\u001b[0m \u001b[43m    \u001b[49m\u001b[43m)\u001b[49m\n\u001b[1;32m    502\u001b[0m \u001b[38;5;66;03m# Send the request.\u001b[39;00m\n\u001b[1;32m    503\u001b[0m \u001b[38;5;28;01melse\u001b[39;00m:\n",
      "File \u001b[0;32m~/miniforge3/lib/python3.10/site-packages/urllib3/connectionpool.py:787\u001b[0m, in \u001b[0;36mHTTPConnectionPool.urlopen\u001b[0;34m(self, method, url, body, headers, retries, redirect, assert_same_host, timeout, pool_timeout, release_conn, chunked, body_pos, **response_kw)\u001b[0m\n\u001b[1;32m    785\u001b[0m     e \u001b[38;5;241m=\u001b[39m ProtocolError(\u001b[38;5;124m\"\u001b[39m\u001b[38;5;124mConnection aborted.\u001b[39m\u001b[38;5;124m\"\u001b[39m, e)\n\u001b[0;32m--> 787\u001b[0m retries \u001b[38;5;241m=\u001b[39m \u001b[43mretries\u001b[49m\u001b[38;5;241;43m.\u001b[39;49m\u001b[43mincrement\u001b[49m\u001b[43m(\u001b[49m\n\u001b[1;32m    788\u001b[0m \u001b[43m    \u001b[49m\u001b[43mmethod\u001b[49m\u001b[43m,\u001b[49m\u001b[43m \u001b[49m\u001b[43murl\u001b[49m\u001b[43m,\u001b[49m\u001b[43m \u001b[49m\u001b[43merror\u001b[49m\u001b[38;5;241;43m=\u001b[39;49m\u001b[43me\u001b[49m\u001b[43m,\u001b[49m\u001b[43m \u001b[49m\u001b[43m_pool\u001b[49m\u001b[38;5;241;43m=\u001b[39;49m\u001b[38;5;28;43mself\u001b[39;49m\u001b[43m,\u001b[49m\u001b[43m \u001b[49m\u001b[43m_stacktrace\u001b[49m\u001b[38;5;241;43m=\u001b[39;49m\u001b[43msys\u001b[49m\u001b[38;5;241;43m.\u001b[39;49m\u001b[43mexc_info\u001b[49m\u001b[43m(\u001b[49m\u001b[43m)\u001b[49m\u001b[43m[\u001b[49m\u001b[38;5;241;43m2\u001b[39;49m\u001b[43m]\u001b[49m\n\u001b[1;32m    789\u001b[0m \u001b[43m\u001b[49m\u001b[43m)\u001b[49m\n\u001b[1;32m    790\u001b[0m retries\u001b[38;5;241m.\u001b[39msleep()\n",
      "File \u001b[0;32m~/miniforge3/lib/python3.10/site-packages/urllib3/util/retry.py:592\u001b[0m, in \u001b[0;36mRetry.increment\u001b[0;34m(self, method, url, response, error, _pool, _stacktrace)\u001b[0m\n\u001b[1;32m    591\u001b[0m \u001b[38;5;28;01mif\u001b[39;00m new_retry\u001b[38;5;241m.\u001b[39mis_exhausted():\n\u001b[0;32m--> 592\u001b[0m     \u001b[38;5;28;01mraise\u001b[39;00m MaxRetryError(_pool, url, error \u001b[38;5;129;01mor\u001b[39;00m ResponseError(cause))\n\u001b[1;32m    594\u001b[0m log\u001b[38;5;241m.\u001b[39mdebug(\u001b[38;5;124m\"\u001b[39m\u001b[38;5;124mIncremented Retry for (url=\u001b[39m\u001b[38;5;124m'\u001b[39m\u001b[38;5;132;01m%s\u001b[39;00m\u001b[38;5;124m'\u001b[39m\u001b[38;5;124m): \u001b[39m\u001b[38;5;132;01m%r\u001b[39;00m\u001b[38;5;124m\"\u001b[39m, url, new_retry)\n",
      "\u001b[0;31mMaxRetryError\u001b[0m: HTTPSConnectionPool(host='timesofindia.indiatimes.com', port=443): Max retries exceeded with url: /city/ahmedabad/morbi-tragedy-why-safety-sops-for-amusement-rides-dont-apply-to-ticketed-bridges/articleshow/95249369.cms (Caused by NewConnectionError('<urllib3.connection.HTTPSConnection object at 0x11645c040>: Failed to establish a new connection: [Errno 8] nodename nor servname provided, or not known'))",
      "\nDuring handling of the above exception, another exception occurred:\n",
      "\u001b[0;31mConnectionError\u001b[0m                           Traceback (most recent call last)",
      "Cell \u001b[0;32mIn [33], line 2\u001b[0m\n\u001b[1;32m      1\u001b[0m url \u001b[38;5;241m=\u001b[39m \u001b[38;5;124m\"\u001b[39m\u001b[38;5;124mhttps://timesofindia.indiatimes.com/city/ahmedabad/morbi-tragedy-why-safety-sops-for-amusement-rides-dont-apply-to-ticketed-bridges/articleshow/95249369.cms\u001b[39m\u001b[38;5;124m\"\u001b[39m\n\u001b[0;32m----> 2\u001b[0m toi_get_content(url)\n",
      "Cell \u001b[0;32mIn [32], line 3\u001b[0m, in \u001b[0;36mtoi_get_content\u001b[0;34m(url)\u001b[0m\n\u001b[1;32m      2\u001b[0m \u001b[38;5;28;01mdef\u001b[39;00m \u001b[38;5;21mtoi_get_content\u001b[39m(url):\n\u001b[0;32m----> 3\u001b[0m     data \u001b[38;5;241m=\u001b[39m \u001b[43mrequests\u001b[49m\u001b[38;5;241;43m.\u001b[39;49m\u001b[43mget\u001b[49m\u001b[43m(\u001b[49m\u001b[43murl\u001b[49m\u001b[43m)\u001b[49m\u001b[38;5;241m.\u001b[39mcontent\n\u001b[1;32m      4\u001b[0m     soup \u001b[38;5;241m=\u001b[39m BeautifulSoup(data,\u001b[38;5;124m\"\u001b[39m\u001b[38;5;124mlxml\u001b[39m\u001b[38;5;124m\"\u001b[39m)\n\u001b[1;32m      5\u001b[0m     div \u001b[38;5;241m=\u001b[39m soup\u001b[38;5;241m.\u001b[39mfind(\u001b[38;5;124m\"\u001b[39m\u001b[38;5;124mdiv\u001b[39m\u001b[38;5;124m\"\u001b[39m, class_\u001b[38;5;241m=\u001b[39m \u001b[38;5;124m\"\u001b[39m\u001b[38;5;124m_3YYSt clearfix \u001b[39m\u001b[38;5;124m\"\u001b[39m)\n",
      "File \u001b[0;32m~/miniforge3/lib/python3.10/site-packages/requests/api.py:73\u001b[0m, in \u001b[0;36mget\u001b[0;34m(url, params, **kwargs)\u001b[0m\n\u001b[1;32m     62\u001b[0m \u001b[38;5;28;01mdef\u001b[39;00m \u001b[38;5;21mget\u001b[39m(url, params\u001b[38;5;241m=\u001b[39m\u001b[38;5;28;01mNone\u001b[39;00m, \u001b[38;5;241m*\u001b[39m\u001b[38;5;241m*\u001b[39mkwargs):\n\u001b[1;32m     63\u001b[0m     \u001b[38;5;124mr\u001b[39m\u001b[38;5;124;03m\"\"\"Sends a GET request.\u001b[39;00m\n\u001b[1;32m     64\u001b[0m \n\u001b[1;32m     65\u001b[0m \u001b[38;5;124;03m    :param url: URL for the new :class:`Request` object.\u001b[39;00m\n\u001b[0;32m   (...)\u001b[0m\n\u001b[1;32m     70\u001b[0m \u001b[38;5;124;03m    :rtype: requests.Response\u001b[39;00m\n\u001b[1;32m     71\u001b[0m \u001b[38;5;124;03m    \"\"\"\u001b[39;00m\n\u001b[0;32m---> 73\u001b[0m     \u001b[38;5;28;01mreturn\u001b[39;00m \u001b[43mrequest\u001b[49m\u001b[43m(\u001b[49m\u001b[38;5;124;43m\"\u001b[39;49m\u001b[38;5;124;43mget\u001b[39;49m\u001b[38;5;124;43m\"\u001b[39;49m\u001b[43m,\u001b[49m\u001b[43m \u001b[49m\u001b[43murl\u001b[49m\u001b[43m,\u001b[49m\u001b[43m \u001b[49m\u001b[43mparams\u001b[49m\u001b[38;5;241;43m=\u001b[39;49m\u001b[43mparams\u001b[49m\u001b[43m,\u001b[49m\u001b[43m \u001b[49m\u001b[38;5;241;43m*\u001b[39;49m\u001b[38;5;241;43m*\u001b[39;49m\u001b[43mkwargs\u001b[49m\u001b[43m)\u001b[49m\n",
      "File \u001b[0;32m~/miniforge3/lib/python3.10/site-packages/requests/api.py:59\u001b[0m, in \u001b[0;36mrequest\u001b[0;34m(method, url, **kwargs)\u001b[0m\n\u001b[1;32m     55\u001b[0m \u001b[38;5;66;03m# By using the 'with' statement we are sure the session is closed, thus we\u001b[39;00m\n\u001b[1;32m     56\u001b[0m \u001b[38;5;66;03m# avoid leaving sockets open which can trigger a ResourceWarning in some\u001b[39;00m\n\u001b[1;32m     57\u001b[0m \u001b[38;5;66;03m# cases, and look like a memory leak in others.\u001b[39;00m\n\u001b[1;32m     58\u001b[0m \u001b[38;5;28;01mwith\u001b[39;00m sessions\u001b[38;5;241m.\u001b[39mSession() \u001b[38;5;28;01mas\u001b[39;00m session:\n\u001b[0;32m---> 59\u001b[0m     \u001b[38;5;28;01mreturn\u001b[39;00m \u001b[43msession\u001b[49m\u001b[38;5;241;43m.\u001b[39;49m\u001b[43mrequest\u001b[49m\u001b[43m(\u001b[49m\u001b[43mmethod\u001b[49m\u001b[38;5;241;43m=\u001b[39;49m\u001b[43mmethod\u001b[49m\u001b[43m,\u001b[49m\u001b[43m \u001b[49m\u001b[43murl\u001b[49m\u001b[38;5;241;43m=\u001b[39;49m\u001b[43murl\u001b[49m\u001b[43m,\u001b[49m\u001b[43m \u001b[49m\u001b[38;5;241;43m*\u001b[39;49m\u001b[38;5;241;43m*\u001b[39;49m\u001b[43mkwargs\u001b[49m\u001b[43m)\u001b[49m\n",
      "File \u001b[0;32m~/miniforge3/lib/python3.10/site-packages/requests/sessions.py:587\u001b[0m, in \u001b[0;36mSession.request\u001b[0;34m(self, method, url, params, data, headers, cookies, files, auth, timeout, allow_redirects, proxies, hooks, stream, verify, cert, json)\u001b[0m\n\u001b[1;32m    582\u001b[0m send_kwargs \u001b[38;5;241m=\u001b[39m {\n\u001b[1;32m    583\u001b[0m     \u001b[38;5;124m\"\u001b[39m\u001b[38;5;124mtimeout\u001b[39m\u001b[38;5;124m\"\u001b[39m: timeout,\n\u001b[1;32m    584\u001b[0m     \u001b[38;5;124m\"\u001b[39m\u001b[38;5;124mallow_redirects\u001b[39m\u001b[38;5;124m\"\u001b[39m: allow_redirects,\n\u001b[1;32m    585\u001b[0m }\n\u001b[1;32m    586\u001b[0m send_kwargs\u001b[38;5;241m.\u001b[39mupdate(settings)\n\u001b[0;32m--> 587\u001b[0m resp \u001b[38;5;241m=\u001b[39m \u001b[38;5;28;43mself\u001b[39;49m\u001b[38;5;241;43m.\u001b[39;49m\u001b[43msend\u001b[49m\u001b[43m(\u001b[49m\u001b[43mprep\u001b[49m\u001b[43m,\u001b[49m\u001b[43m \u001b[49m\u001b[38;5;241;43m*\u001b[39;49m\u001b[38;5;241;43m*\u001b[39;49m\u001b[43msend_kwargs\u001b[49m\u001b[43m)\u001b[49m\n\u001b[1;32m    589\u001b[0m \u001b[38;5;28;01mreturn\u001b[39;00m resp\n",
      "File \u001b[0;32m~/miniforge3/lib/python3.10/site-packages/requests/sessions.py:701\u001b[0m, in \u001b[0;36mSession.send\u001b[0;34m(self, request, **kwargs)\u001b[0m\n\u001b[1;32m    698\u001b[0m start \u001b[38;5;241m=\u001b[39m preferred_clock()\n\u001b[1;32m    700\u001b[0m \u001b[38;5;66;03m# Send the request\u001b[39;00m\n\u001b[0;32m--> 701\u001b[0m r \u001b[38;5;241m=\u001b[39m \u001b[43madapter\u001b[49m\u001b[38;5;241;43m.\u001b[39;49m\u001b[43msend\u001b[49m\u001b[43m(\u001b[49m\u001b[43mrequest\u001b[49m\u001b[43m,\u001b[49m\u001b[43m \u001b[49m\u001b[38;5;241;43m*\u001b[39;49m\u001b[38;5;241;43m*\u001b[39;49m\u001b[43mkwargs\u001b[49m\u001b[43m)\u001b[49m\n\u001b[1;32m    703\u001b[0m \u001b[38;5;66;03m# Total elapsed time of the request (approximately)\u001b[39;00m\n\u001b[1;32m    704\u001b[0m elapsed \u001b[38;5;241m=\u001b[39m preferred_clock() \u001b[38;5;241m-\u001b[39m start\n",
      "File \u001b[0;32m~/miniforge3/lib/python3.10/site-packages/requests/adapters.py:565\u001b[0m, in \u001b[0;36mHTTPAdapter.send\u001b[0;34m(self, request, stream, timeout, verify, cert, proxies)\u001b[0m\n\u001b[1;32m    561\u001b[0m     \u001b[38;5;28;01mif\u001b[39;00m \u001b[38;5;28misinstance\u001b[39m(e\u001b[38;5;241m.\u001b[39mreason, _SSLError):\n\u001b[1;32m    562\u001b[0m         \u001b[38;5;66;03m# This branch is for urllib3 v1.22 and later.\u001b[39;00m\n\u001b[1;32m    563\u001b[0m         \u001b[38;5;28;01mraise\u001b[39;00m SSLError(e, request\u001b[38;5;241m=\u001b[39mrequest)\n\u001b[0;32m--> 565\u001b[0m     \u001b[38;5;28;01mraise\u001b[39;00m \u001b[38;5;167;01mConnectionError\u001b[39;00m(e, request\u001b[38;5;241m=\u001b[39mrequest)\n\u001b[1;32m    567\u001b[0m \u001b[38;5;28;01mexcept\u001b[39;00m ClosedPoolError \u001b[38;5;28;01mas\u001b[39;00m e:\n\u001b[1;32m    568\u001b[0m     \u001b[38;5;28;01mraise\u001b[39;00m \u001b[38;5;167;01mConnectionError\u001b[39;00m(e, request\u001b[38;5;241m=\u001b[39mrequest)\n",
      "\u001b[0;31mConnectionError\u001b[0m: HTTPSConnectionPool(host='timesofindia.indiatimes.com', port=443): Max retries exceeded with url: /city/ahmedabad/morbi-tragedy-why-safety-sops-for-amusement-rides-dont-apply-to-ticketed-bridges/articleshow/95249369.cms (Caused by NewConnectionError('<urllib3.connection.HTTPSConnection object at 0x11645c040>: Failed to establish a new connection: [Errno 8] nodename nor servname provided, or not known'))"
     ]
    }
   ],
   "source": [
    "url = \"https://timesofindia.indiatimes.com/city/ahmedabad/morbi-tragedy-why-safety-sops-for-amusement-rides-dont-apply-to-ticketed-bridges/articleshow/95249369.cms\"\n",
    "toi_get_content(url)"
   ]
  },
  {
   "cell_type": "code",
   "execution_count": 17,
   "id": "2b46a6e3",
   "metadata": {},
   "outputs": [],
   "source": [
    "## The Hindu\n",
    "def get_content(url):\n",
    "    html = requests.get(url)\n",
    "    article = BeautifulSoup(html.text,\"lxml\")\n",
    "    content = \"\"\n",
    "    paras = article.find_all(\"p\")[1:-5]\n",
    "    for para in paras:\n",
    "        content+=para.get_text()\n",
    "    return content"
   ]
  },
  {
   "cell_type": "code",
   "execution_count": 18,
   "id": "592edfe0",
   "metadata": {},
   "outputs": [
    {
     "data": {
      "text/plain": [
       "'Four militants were killed in two separate anti-militancy operations in south Kashmir’s Anantnag and Pulwama districts on Tuesday, and a likely “ fidayeen” (suicide) attack in the Valley, the J&K Police said.“Lashkar-e-Taiba (LeT) commander Mukhtar Bhat is among the three killed terrorists [in Pulwama’s Awantipora area]. As per source, he, along with a foreign terrorist, was going for ‘ fidayeen’ attack on security forces’ camp. The\\xa0Awantipora police and the Army averted a major terror incident,” Additional Director General of Police Vijay Kumar said.\\xa0One AK-47 rifle, one AK-56 rifle and one pistol were recovered from the encounter site at Pulwama’s Awantipora.Mr. Kumar said Bhat was involved in several terror crimes, including the killing of one Assistant Sub-Inspector of the Central Reserve Police Force and two Railway Protection Force personnel. “It’s a big success for us,” Mr. Kumar said.The third deceased person, believed to be a local, could not be identified immediately.'"
      ]
     },
     "execution_count": 18,
     "metadata": {},
     "output_type": "execute_result"
    }
   ],
   "source": [
    "url = \"https://www.thehindu.com/news/national/other-states/four-militants-killed-in-anti-militancy-operations-in-kashmir-jk-police/article66083277.ece?homepage=true\"\n",
    "get_content(url)"
   ]
  },
  {
   "cell_type": "code",
   "execution_count": 5,
   "id": "6d78f3f4",
   "metadata": {},
   "outputs": [],
   "source": [
    "def news_extract(heading, url):\n",
    "\n",
    "    def india_today_get_content(url):\n",
    "        ar      = requests.get(url)\n",
    "        article = BeautifulSoup(ar.text,\"lxml\")\n",
    "        if (article.find('div',{\"class\":\"description\"}) == None):\n",
    "            return None\n",
    "        else:\n",
    "            content = \"\"\n",
    "            for para in article.find(class_ = \"description\").find_all(\"p\")[:-3]:\n",
    "                content+=para.get_text()\n",
    "            return content\n",
    "\n",
    "    def indian_express_get_content(url):\n",
    "        ar = requests.get(url)\n",
    "        article = BeautifulSoup(ar.text,\"lxml\")\n",
    "        if article.find(id=\"pcl-full-content\") == None:\n",
    "            return None\n",
    "        else:\n",
    "            content = \"\"\n",
    "            for para in article.find('div', id = \"pcl-full-content\").find_all(\"p\"):\n",
    "                content+=para.get_text()\n",
    "            return content\n",
    "    \n",
    "    def hindu_get_content(url):\n",
    "        html    = requests.get(url)\n",
    "        article = BeautifulSoup(html.text,\"lxml\")\n",
    "        content = \"\"\n",
    "        paras = article.find_all(\"p\")[1:-5]\n",
    "        for para in paras:\n",
    "            content+=para.get_text()\n",
    "        return content\n",
    "\n",
    "    def ndtv_get_content(url):\n",
    "        ar = requests.get(url)\n",
    "        article = BeautifulSoup(ar.text,\"lxml\")\n",
    "        if article.find('div',{'id':\"ins_storybody\"}) == None:\n",
    "            return None, None\n",
    "        else:\n",
    "            content = \"\"\n",
    "            for para in article.find('div',{'id':\"ins_storybody\"}).find_all(\"p\"):\n",
    "                content+=para.get_text()\n",
    "            return content\n",
    "    \n",
    "    def toi_get_content(url):\n",
    "        data = requests.get(url).content\n",
    "        soup = BeautifulSoup(data,\"lxml\")\n",
    "        div = soup.find(\"div\", class_= \"_3YYSt clearfix \")\n",
    "        if div is None:\n",
    "            div = soup.find(\"div\", class_= \"_3YYSt clearfix\")\n",
    "        if div is not None:\n",
    "            time = soup.find(\"div\", class_=\"yYIu- byline\").find(\"span\").text\n",
    "            time = re.sub(\"Updated:|IST|AM|PM\", \"\", time, flags=re.IGNORECASE).strip()\n",
    "            # time = datetime.strptime(time, \"%b %d, %Y, %H:%M\")\n",
    "            return \"\".join(list(div.strings))\n",
    "        return None\n",
    "\n",
    "    if (heading == 'India_Today'): return india_today_get_content(url)\n",
    "    if (heading == 'The_Indian_Express'): return indian_express_get_content(url)\n",
    "    if (heading == 'The_Hindu'): return hindu_get_content(url)\n",
    "    if (heading == 'NDTV'): return ndtv_get_content(url)\n",
    "    if (heading == 'Times_of_India'): return toi_get_content(url)"
   ]
  },
  {
   "cell_type": "code",
   "execution_count": null,
   "id": "10cb2518",
   "metadata": {},
   "outputs": [],
   "source": [
    "url          = \"https://www.indiatoday.in/india/story/coimbatore-blast-accused-call-recordings-isis-2292127-2022-11-01\"\n",
    "news_company = \"India_Today\"\n",
    "news_extract(news_company, url)"
   ]
  },
  {
   "cell_type": "code",
   "execution_count": null,
   "id": "3bcfa5f7",
   "metadata": {},
   "outputs": [],
   "source": [
    "url = \"https://www.thehindu.com/news/national/other-states/four-militants-killed-in-anti-militancy-operations-in-kashmir-jk-police/article66083277.ece?homepage=true\"\n",
    "news_company = \"The_Hindu\"\n",
    "news_extract(news_company, url)"
   ]
  },
  {
   "cell_type": "code",
   "execution_count": null,
   "id": "c4168fdf",
   "metadata": {},
   "outputs": [],
   "source": []
  },
  {
   "cell_type": "code",
   "execution_count": null,
   "id": "8eb16132",
   "metadata": {},
   "outputs": [],
   "source": []
  }
 ],
 "metadata": {
  "kernelspec": {
   "display_name": "Python 3 (ipykernel)",
   "language": "python",
   "name": "python3"
  },
  "language_info": {
   "codemirror_mode": {
    "name": "ipython",
    "version": 3
   },
   "file_extension": ".py",
   "mimetype": "text/x-python",
   "name": "python",
   "nbconvert_exporter": "python",
   "pygments_lexer": "ipython3",
   "version": "3.10.6"
  }
 },
 "nbformat": 4,
 "nbformat_minor": 5
}
