{
 "cells": [
  {
   "cell_type": "code",
   "execution_count": 1,
   "id": "278af7c2",
   "metadata": {},
   "outputs": [],
   "source": [
    "from bs4 import BeautifulSoup\n",
    "import pandas as pd\n",
    "import requests\n",
    "import urllib.request\n",
    "import time"
   ]
  },
  {
   "cell_type": "code",
   "execution_count": 2,
   "id": "6cf94de9",
   "metadata": {},
   "outputs": [],
   "source": [
    "authors    = []\n",
    "dates      = []\n",
    "statements = []\n",
    "sources    = []\n",
    "targets    = []"
   ]
  },
  {
   "cell_type": "code",
   "execution_count": 3,
   "id": "13d600f5",
   "metadata": {},
   "outputs": [],
   "source": [
    "def scrape_website(page_number):\n",
    "    page_num = str(page_number) # Convert the page number to a string\n",
    "    URL      = 'https://www.politifact.com/factchecks/list/?page='+page_num #append the page number to complete the URL\n",
    "    webpage  = requests.get(URL)  # Make a request to the website\n",
    "    \n",
    "    #time.sleep(3)\n",
    "    soup = BeautifulSoup(webpage.text, \"html.parser\") #Parse the text from the website\n",
    "    \n",
    "    #Get the tags and it's class\n",
    "    statement_footer =  soup.find_all('footer',attrs={'class':'m-statement__footer'})  #Get the tag and it's class\n",
    "    statement_quote  = soup.find_all('div', attrs={'class':'m-statement__quote'}) #Get the tag and it's class\n",
    "    statement_meta   = soup.find_all('div', attrs={'class':'m-statement__meta'})#Get the tag and it's class\n",
    "    target = soup.find_all('div', attrs={'class':'m-statement__meter'}) #Get the tag and it's class\n",
    "    \n",
    "    #loop through the footer class m-statement__footer to get the date and author\n",
    "    for i in statement_footer:\n",
    "        link1         = i.text.strip()\n",
    "        name_and_date = link1.split()\n",
    "        first_name    = name_and_date[1]\n",
    "        last_name     = name_and_date[2]\n",
    "        full_name     = first_name+' '+last_name\n",
    "        month         = name_and_date[4]\n",
    "        day           = name_and_date[5]\n",
    "        year          = name_and_date[6]\n",
    "        date          = month+' '+day+' '+year\n",
    "        dates.append(date)\n",
    "        authors.append(full_name)\n",
    "\n",
    "    #Loop through the div m-statement__quote to get the link\n",
    "    for i in statement_quote:\n",
    "        link2 = i.find_all('a')\n",
    "        statements.append(link2[0].text.strip())\n",
    "\n",
    "    #Loop through the div m-statement__meta to get the source\n",
    "    for i in statement_meta:\n",
    "        link3 = i.find_all('a') #Source\n",
    "        source_text = link3[0].text.strip()\n",
    "        sources.append(source_text)\n",
    "\n",
    "      #Loop through the target or the div m-statement__meter to get the facts about the statement (True or False)\n",
    "    for i in target:\n",
    "        fact = i.find('div', attrs={'class':'c-image'}).find('img').get('alt')\n",
    "        targets.append(fact)"
   ]
  },
  {
   "cell_type": "code",
   "execution_count": 4,
   "id": "b66f4a4c",
   "metadata": {},
   "outputs": [],
   "source": [
    "## Loop through 'n-1' webpages to scrape the data\n",
    "n = 101\n",
    "for i in range(1, n):\n",
    "    scrape_website(i)"
   ]
  },
  {
   "cell_type": "code",
   "execution_count": 5,
   "id": "78072f0e",
   "metadata": {},
   "outputs": [
    {
     "data": {
      "text/html": [
       "<div>\n",
       "<style scoped>\n",
       "    .dataframe tbody tr th:only-of-type {\n",
       "        vertical-align: middle;\n",
       "    }\n",
       "\n",
       "    .dataframe tbody tr th {\n",
       "        vertical-align: top;\n",
       "    }\n",
       "\n",
       "    .dataframe thead th {\n",
       "        text-align: right;\n",
       "    }\n",
       "</style>\n",
       "<table border=\"1\" class=\"dataframe\">\n",
       "  <thead>\n",
       "    <tr style=\"text-align: right;\">\n",
       "      <th></th>\n",
       "      <th>author</th>\n",
       "      <th>statement</th>\n",
       "      <th>source</th>\n",
       "      <th>date</th>\n",
       "      <th>target</th>\n",
       "    </tr>\n",
       "  </thead>\n",
       "  <tbody>\n",
       "    <tr>\n",
       "      <th>0</th>\n",
       "      <td>Tom Kertscher</td>\n",
       "      <td>\"They say the ocean will rise one-eighth of an...</td>\n",
       "      <td>Donald Trump</td>\n",
       "      <td>November 17, 2022</td>\n",
       "      <td>pants-fire</td>\n",
       "    </tr>\n",
       "    <tr>\n",
       "      <th>1</th>\n",
       "      <td>Ciara O'Rourke</td>\n",
       "      <td>Photo shows “ballots not counted in California...</td>\n",
       "      <td>Viral image</td>\n",
       "      <td>November 17, 2022</td>\n",
       "      <td>barely-true</td>\n",
       "    </tr>\n",
       "    <tr>\n",
       "      <th>2</th>\n",
       "      <td>Amy Sherman</td>\n",
       "      <td>Bags arriving at the Maricopa County vote coun...</td>\n",
       "      <td>Instagram posts</td>\n",
       "      <td>November 17, 2022</td>\n",
       "      <td>pants-fire</td>\n",
       "    </tr>\n",
       "    <tr>\n",
       "      <th>3</th>\n",
       "      <td>Madison Czopek</td>\n",
       "      <td>President Joe Biden said, “I know you all know...</td>\n",
       "      <td>Instagram posts</td>\n",
       "      <td>November 17, 2022</td>\n",
       "      <td>false</td>\n",
       "    </tr>\n",
       "    <tr>\n",
       "      <th>4</th>\n",
       "      <td>Amy Sherman</td>\n",
       "      <td>“Republicans want to raise the voting to age 28.”</td>\n",
       "      <td>Sunny Hostin</td>\n",
       "      <td>November 17, 2022</td>\n",
       "      <td>false</td>\n",
       "    </tr>\n",
       "  </tbody>\n",
       "</table>\n",
       "</div>"
      ],
      "text/plain": [
       "           author                                          statement  \\\n",
       "0   Tom Kertscher  \"They say the ocean will rise one-eighth of an...   \n",
       "1  Ciara O'Rourke  Photo shows “ballots not counted in California...   \n",
       "2     Amy Sherman  Bags arriving at the Maricopa County vote coun...   \n",
       "3  Madison Czopek  President Joe Biden said, “I know you all know...   \n",
       "4     Amy Sherman  “Republicans want to raise the voting to age 28.”   \n",
       "\n",
       "            source               date       target  \n",
       "0     Donald Trump  November 17, 2022   pants-fire  \n",
       "1      Viral image  November 17, 2022  barely-true  \n",
       "2  Instagram posts  November 17, 2022   pants-fire  \n",
       "3  Instagram posts  November 17, 2022        false  \n",
       "4     Sunny Hostin  November 17, 2022        false  "
      ]
     },
     "execution_count": 5,
     "metadata": {},
     "output_type": "execute_result"
    }
   ],
   "source": [
    "data = pd.DataFrame(columns = ['author',  'statement', 'source', 'date', 'target']) \n",
    "data['author']    = authors\n",
    "data['statement'] = statements\n",
    "data['source']    = sources\n",
    "data['date']      = dates\n",
    "data['target']    = targets\n",
    "\n",
    "data.head()"
   ]
  },
  {
   "cell_type": "code",
   "execution_count": 6,
   "id": "35cf3061",
   "metadata": {},
   "outputs": [],
   "source": [
    "#Create a function to get a binary number from the target\n",
    "def getBinaryNumTarget(text):\n",
    "    if text == 'true':return 1\n",
    "    else: return 0"
   ]
  },
  {
   "cell_type": "code",
   "execution_count": 7,
   "id": "f56171e1",
   "metadata": {},
   "outputs": [],
   "source": [
    "#Create a function to get only true or false values from the target\n",
    "def getBinaryTarget(text):\n",
    "    if text == 'true': return 'REAL'\n",
    "    else: return 'FAKE'"
   ]
  },
  {
   "cell_type": "code",
   "execution_count": 8,
   "id": "feecfb9e",
   "metadata": {},
   "outputs": [],
   "source": [
    "#Store the data in the dataframe\n",
    "data['BinaryTarget']    = data['target'].apply(getBinaryTarget)\n",
    "data['BinaryNumTarget'] = data['target'].apply(getBinaryNumTarget)"
   ]
  },
  {
   "cell_type": "code",
   "execution_count": 9,
   "id": "1d2f1455",
   "metadata": {},
   "outputs": [],
   "source": [
    "data.to_csv('political_fact_checker.csv')"
   ]
  },
  {
   "cell_type": "code",
   "execution_count": null,
   "id": "75bf4d33",
   "metadata": {},
   "outputs": [],
   "source": []
  }
 ],
 "metadata": {
  "kernelspec": {
   "display_name": "Python 3 (ipykernel)",
   "language": "python",
   "name": "python3"
  },
  "language_info": {
   "codemirror_mode": {
    "name": "ipython",
    "version": 3
   },
   "file_extension": ".py",
   "mimetype": "text/x-python",
   "name": "python",
   "nbconvert_exporter": "python",
   "pygments_lexer": "ipython3",
   "version": "3.10.6"
  }
 },
 "nbformat": 4,
 "nbformat_minor": 5
}
